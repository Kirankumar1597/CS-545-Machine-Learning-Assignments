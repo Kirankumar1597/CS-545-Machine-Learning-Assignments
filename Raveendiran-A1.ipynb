{
 "cells": [
  {
   "cell_type": "markdown",
   "metadata": {},
   "source": [
    "# A1: Three-Layer Neural Network"
   ]
  },
  {
   "cell_type": "markdown",
   "metadata": {
    "toc": true
   },
   "source": [
    "<h1>Table of Contents<span class=\"tocSkip\"></span></h1>\n",
    "<div class=\"toc\"><ul class=\"toc-item\"><li><span><a href=\"#Requirements\" data-toc-modified-id=\"Requirements-1\">Requirements</a></span></li><li><span><a href=\"#Example-Results\" data-toc-modified-id=\"Example-Results-2\">Example Results</a></span></li><li><span><a href=\"#Discussion\" data-toc-modified-id=\"Discussion-3\">Discussion</a></span></li></ul></div>"
   ]
  },
  {
   "cell_type": "markdown",
   "metadata": {},
   "source": [
    "## Requirements"
   ]
  },
  {
   "cell_type": "markdown",
   "metadata": {},
   "source": [
    "In this assignment, you will start with code from lecture notes 04 and add code to do the following.\n",
    "\n",
    "* Add another hidden layer, for a total of two hidden layers.  This layer will use a weight matrix named `U`.  Its outputs will be named `Zu` and the outputs of the second hidden layer will be changed to `Zv`.\n",
    "* Define function `forward` that returns the output of all of the layers in the neural network for all samples in `X`. `X` is assumed to be standardized and have the initial column of constant 1 values.\n",
    "\n",
    "      def forward(X, U, V, W):\n",
    "          .\n",
    "          .\n",
    "          .\n",
    "          Y = . . . # output of neural network for all rows in X\n",
    "          return Zu, Zv, Y\n",
    "      \n",
    "* Define function `gradient` that returns the gradients of the mean squared error with respect to each of the three weight matrices. `X` and `T` are assumed to be standardized and `X` has the initial column of 1's.\n",
    "\n",
    "      def gradient(X, T, Zu, Zv, Y, U, V, W):\n",
    "          .\n",
    "          .\n",
    "          .\n",
    "          return grad_wrt_U, grad_wrt_V, grad_wrt_W\n",
    "          \n",
    "* Define function `train` that returns the resulting values of `U`, `V`, and `W` and the standardization parameters.  Arguments are unstandardized `X` and `T`, the number of units in the two hidden layers, the number of epochs and the learning rate, which is the same value for all layers. This function standardizes `X` and `T`, initializes `U`, `V` and `W` to uniformly distributed random values between -1 and 1, and `U`, `V` and `W` for `n_epochs` times as shown in lecture notes 04.  This function must call `forward`, `gradient` and `addOnes`.\n",
    "\n",
    "      def train(X, T, n_units_U, n_units_V, n_epochs, rho):\n",
    "          .\n",
    "          .\n",
    "          .\n",
    "          return U, V, W, X_means, X_stds, T_means, T_stds\n",
    "          \n",
    "* Define function `use` that accepts unstandardized `X`, standardization parameters, and weight matrices `U`, `V`, and `W` and returns the unstandardized output.\n",
    "\n",
    "      def use(X, X_means, X_stds, T_means, T_stds, U, V, W):\n",
    "          .\n",
    "          .\n",
    "          .\n",
    "          Y = ....\n",
    "          return Y"
   ]
  },
  {
   "cell_type": "markdown",
   "metadata": {},
   "source": [
    "## Example Results"
   ]
  },
  {
   "cell_type": "code",
   "execution_count": 1,
   "metadata": {},
   "outputs": [],
   "source": [
    "import numpy as np\n",
    "import matplotlib.pyplot as plt\n",
    "%matplotlib inline\n",
    "\n",
    "def addOnes(X):\n",
    "    return np.insert(X, 0, 1, axis=1)"
   ]
  },
  {
   "cell_type": "markdown",
   "metadata": {},
   "source": [
    "Add code cells here to define the functions above.  Once these are correctly defined, the following cells should run and produce similar results as those here."
   ]
  },
  {
   "cell_type": "code",
   "execution_count": 2,
   "metadata": {},
   "outputs": [],
   "source": [
    "def forward (X, U, V, W):\n",
    "    Zu = np.tanh(X @ U)\n",
    "    Zu1 = addOnes(Zu)\n",
    "    Zv = np.tanh(Zu1 @ V) \n",
    "    Zv1 = addOnes(Zv)\n",
    "    Y = Zv1 @ W\n",
    "    return Zu, Zv, Y"
   ]
  },
  {
   "cell_type": "code",
   "execution_count": 3,
   "metadata": {},
   "outputs": [],
   "source": [
    "def gradient (X, T, Zu, Zv, Y, U, V, W):\n",
    "    # Gradient of mean squared error with respect to U, V and W\n",
    "    Dw = T - Y\n",
    "    Dv = Dw @ W[1: , : ].T * (1 - Zv**2)\n",
    "    Du = Dv @ V[1: , : ].T * (1 - Zu**2)\n",
    "    grad_wrt_U = - X.T @ Du \n",
    "    grad_wrt_V = - addOnes(Zu).T @ Dv\n",
    "    grad_wrt_W = - addOnes(Zv).T @ Dw \n",
    "    return grad_wrt_U, grad_wrt_V, grad_wrt_W"
   ]
  },
  {
   "cell_type": "code",
   "execution_count": 4,
   "metadata": {},
   "outputs": [],
   "source": [
    "def train(X, T, n_units_U, n_units_V, n_epochs, rho):\n",
    "    X_means = X.mean(axis=0)\n",
    "    X_stds = X.std(axis=0)\n",
    "    T_means = T.mean(axis=0)\n",
    "    T_stds = T.std(axis=0)\n",
    "    XS = (X - X_means) / X_stds\n",
    "    TS = (T - T_means) / T_stds\n",
    "    XS1 = addOnes(XS)\n",
    "    n_inputs = XS.shape[1]\n",
    "    n_outputs = TS.shape[1]\n",
    "    # Initialize weights U, V and W to uniformly distributed values between -1 and 1\n",
    "    U = np.random.uniform(-1, 1, size=(1 + n_inputs, n_units_U)) / np.sqrt(XS1.shape[1])\n",
    "    V = np.random.uniform(-1, 1, size=(1 + n_units_U, n_units_V)) / np.sqrt(n_units_U + 1)\n",
    "    W = np.random.uniform(-1, 1, size=(1 + n_units_V, n_outputs)) / np.sqrt(n_units_V + 1)\n",
    "    for epoch in range(n_epochs):\n",
    "        Zu, Zv, Y = forward(XS1, U, V, W)\n",
    "        grad_wrt_U, grad_wrt_V, grad_wrt_W = gradient(XS1, TS, Zu, Zv, Y, U, V, W)\n",
    "        U = U - rho * grad_wrt_U \n",
    "        V = V - rho * grad_wrt_V\n",
    "        W = W - rho * grad_wrt_W\n",
    "    return U, V, W, X_means, X_stds, T_means, T_stds"
   ]
  },
  {
   "cell_type": "code",
   "execution_count": 5,
   "metadata": {},
   "outputs": [],
   "source": [
    "def use(X, X_means, X_stds, T_means, T_stds, U, V, W):\n",
    "    XS = (X - X_means) / X_stds\n",
    "    XS1 = addOnes(XS)\n",
    "    Y_std = np.tanh(XS1 @ U)\n",
    "    Y_std = addOnes(Y_std)\n",
    "    Y_stds = np.tanh(Y_std @ V)\n",
    "    Y_stds = addOnes(Y_stds)\n",
    "    Y = Y_stds @ W\n",
    "    Y = Y * T_stds + T_means\n",
    "    return Y"
   ]
  },
  {
   "cell_type": "code",
   "execution_count": 6,
   "metadata": {},
   "outputs": [],
   "source": [
    "Xtrain = np.arange(4).reshape(-1, 1)\n",
    "Ttrain = Xtrain ** 2\n",
    "\n",
    "Xtest = Xtrain + 0.5\n",
    "Ttest = Xtest ** 2"
   ]
  },
  {
   "cell_type": "code",
   "execution_count": 7,
   "metadata": {},
   "outputs": [],
   "source": [
    "U = np.array([[1, 2, 3], [4, 5, 6]])  # 2 x 3 matrix, for 2 inputs (include constant 1) and 3 units\n",
    "V = np.array([[-1, 3], [1, 3], [-2, 1], [2, -4]]) # 2 x 3 matrix, for 3 inputs (include constant 1) and 2 units\n",
    "W = np.array([[-1], [2], [3]])  # 3 x 1 matrix, for 3 inputs (include constant 1) and 1 unit"
   ]
  },
  {
   "cell_type": "code",
   "execution_count": 8,
   "metadata": {},
   "outputs": [],
   "source": [
    "X_means = np.mean(Xtrain, axis=0)\n",
    "X_stds = np.std(Xtrain, axis=0)\n",
    "Xtrain_st = (Xtrain - X_means) / X_stds"
   ]
  },
  {
   "cell_type": "code",
   "execution_count": 9,
   "metadata": {
    "scrolled": true
   },
   "outputs": [
    {
     "name": "stdout",
     "output_type": "stream",
     "text": [
      "Zu =  [[-0.99967774 -0.99983726 -0.99991782]\n",
      " [-0.65775956 -0.23177837  0.3065367 ]\n",
      " [ 0.99246605  0.99958165  0.99997685]\n",
      " [ 0.9999941   0.99999995  1.        ]]\n",
      "Zv =  [[-9.64016194e-01  9.95062648e-01]\n",
      " [-5.23485834e-01 -4.06326878e-01]\n",
      " [-6.74345774e-03  9.94823310e-01]\n",
      " [-5.79521329e-06  9.95054578e-01]]\n",
      "Y =  [[ 0.05715556]\n",
      " [-3.2659523 ]\n",
      " [ 1.97098301]\n",
      " [ 1.98515214]]\n"
     ]
    }
   ],
   "source": [
    "Zu, Zv, Y = forward(addOnes(Xtrain_st), U, V, W)\n",
    "print('Zu = ', Zu)\n",
    "print('Zv = ', Zv)\n",
    "print('Y = ', Y)"
   ]
  },
  {
   "cell_type": "code",
   "execution_count": 10,
   "metadata": {
    "scrolled": true
   },
   "outputs": [
    {
     "name": "stdout",
     "output_type": "stream",
     "text": [
      "grad_wrt_U =  [[-12.92244218   0.95763799  16.44936549]\n",
      " [  5.83033911  -0.43361979  -7.35611199]]\n",
      "grad_wrt_V =  [[ 0.92812794 -6.29102685]\n",
      " [ 6.74349351  4.24106248]\n",
      " [ 5.19130234  1.51895191]\n",
      " [ 3.19836999 -1.92147926]]\n",
      "grad_wrt_W =  [[0.74733841]\n",
      " [0.30431595]\n",
      " [4.31908649]]\n"
     ]
    }
   ],
   "source": [
    "T_means = np.mean(Ttrain, axis=0)\n",
    "T_stds = np.std(Ttrain, axis=0)\n",
    "Ttrain_st = (Ttrain - T_means) / T_stds\n",
    "grad_wrt_U, grad_wrt_V, grad_wrt_W = gradient(addOnes(Xtrain_st), Ttrain_st, Zu, Zv, Y, U, V, W)\n",
    "print('grad_wrt_U = ', grad_wrt_U)\n",
    "print('grad_wrt_V = ', grad_wrt_V)\n",
    "print('grad_wrt_W = ', grad_wrt_W)"
   ]
  },
  {
   "cell_type": "code",
   "execution_count": 11,
   "metadata": {},
   "outputs": [
    {
     "data": {
      "text/plain": [
       "array([[ 3.70004445],\n",
       "       [-7.93083306],\n",
       "       [10.39844055],\n",
       "       [10.44803251]])"
      ]
     },
     "execution_count": 11,
     "metadata": {},
     "output_type": "execute_result"
    }
   ],
   "source": [
    "Y = use(Xtrain, X_means, X_stds, T_means, T_stds, U, V, W)\n",
    "Y"
   ]
  },
  {
   "cell_type": "code",
   "execution_count": 12,
   "metadata": {},
   "outputs": [
    {
     "name": "stdout",
     "output_type": "stream",
     "text": [
      "U.shape=(2, 3) V.shape=(4, 2) W.shape=(3, 1) X_means.shape=(1,) X_stds.shape=(1,) T_means.shape=(1,) T_stds.shape=(1,)\n"
     ]
    }
   ],
   "source": [
    "print(f'{U.shape=} {V.shape=} {W.shape=} {X_means.shape=} {X_stds.shape=} {T_means.shape=} {T_stds.shape=}')"
   ]
  },
  {
   "cell_type": "markdown",
   "metadata": {},
   "source": [
    "Here is another example that just shows the final results of training."
   ]
  },
  {
   "cell_type": "code",
   "execution_count": 13,
   "metadata": {},
   "outputs": [],
   "source": [
    "n = 30\n",
    "Xtrain = np.linspace(0., 20.0, n).reshape((n, 1)) - 10\n",
    "Ttrain = 0.2 + 0.05 * (Xtrain + 10) + 0.4 * np.sin(Xtrain + 10) + 0.2 * np.random.normal(size=(n, 1))\n",
    "\n",
    "Xtest = Xtrain + 0.1 * np.random.normal(size=(n, 1))\n",
    "Ttest = 0.2 + 0.05 * (Xtest + 10) + 0.4 * np.sin(Xtest + 10) + 0.2 * np.random.normal(size=(n, 1))"
   ]
  },
  {
   "cell_type": "code",
   "execution_count": 14,
   "metadata": {
    "scrolled": true
   },
   "outputs": [],
   "source": [
    "U, V, W, X_means, X_stds, T_means, T_stds =  train(Xtrain, Ttrain, 5, 5, 100, 0.01)"
   ]
  },
  {
   "cell_type": "code",
   "execution_count": 15,
   "metadata": {},
   "outputs": [],
   "source": [
    "Y = use(Xtrain, X_means, X_stds, T_means, T_stds, U, V, W)"
   ]
  },
  {
   "cell_type": "code",
   "execution_count": 16,
   "metadata": {},
   "outputs": [
    {
     "data": {
      "image/png": "[encoded data removed]",
      "text/plain": [
       "<Figure size 432x288 with 1 Axes>"
      ]
     },
     "metadata": {
      "needs_background": "light"
     },
     "output_type": "display_data"
    }
   ],
   "source": [
    "plt.plot(Xtrain, Ttrain)\n",
    "plt.plot(Xtrain, Y);"
   ]
  },
  {
   "cell_type": "code",
   "execution_count": 17,
   "metadata": {
    "scrolled": true
   },
   "outputs": [
    {
     "data": {
      "image/png": "[encoded data removed]",
      "text/plain": [
       "<Figure size 432x288 with 1 Axes>"
      ]
     },
     "metadata": {
      "needs_background": "light"
     },
     "output_type": "display_data"
    }
   ],
   "source": [
    "U, V, W, X_means, X_stds, T_means, T_stds = train(Xtrain, Ttrain, 5, 5, 10000, 0.01)\n",
    "Y = use(Xtrain, X_means, X_stds, T_means, T_stds, U, V, W)\n",
    "plt.plot(Xtrain, Ttrain, label='Train')\n",
    "plt.plot(Xtrain, Y, label='Test')\n",
    "plt.legend();"
   ]
  },
  {
   "cell_type": "markdown",
   "metadata": {},
   "source": [
    "## Discussion"
   ]
  },
  {
   "cell_type": "markdown",
   "metadata": {},
   "source": [
    "In this markdown cell, describe what difficulties you encountered in completing this assignment. What parts were easy for you and what parts were hard?\n",
    "\n",
    "i) The most challenging part of this assignment is the conversion of two-layer neural network that was taught in lecture 4 to three-layer neural network.\n",
    "\n",
    "ii) In my view, the easiest part is defining the forward, gradient and use functions where the only difficulty I faced is in the computation of du and dv in the gradient function, and the python code I written for forward, gradient and use function was a mere adjustment of the code that was taught in the third and fourth lecture.\n",
    "\n",
    "iii) The most difficult part of this assignment is writting the python code for the train function where I got many errors such as broadcasting of two distinct matrices and matrix multiplication error due to mismatch of matrix dimensions."
   ]
  },
  {
   "cell_type": "markdown",
   "metadata": {},
   "source": [
    "# Grading\n",
    "\n",
    "**A1grader.tar is now available.**\n",
    "\n",
    "Your notebook will be run and graded automatically. Test this grading process by first downloading [A1grader.tar](http://www.cs.colostate.edu/~anderson/cs545/notebooks/A1grader.tar) and extract `A1grader.py` from it. Run the code in the following cell to demonstrate an example grading session.  The remaining 10 points will be based on your discussion of this assignment.\n",
    "\n",
    "A different, but similar, grading script will be used to grade your checked-in notebook. It will include additional tests. You should design and perform additional tests on all of your functions to be sure they run correctly before checking in your notebook.  \n",
    "\n",
    "For the grading script to run correctly, you must first name this notebook as 'Lastname-A1.ipynb' with 'Lastname' being your last name, and then save this notebook."
   ]
  },
  {
   "cell_type": "code",
   "execution_count": 18,
   "metadata": {
    "scrolled": true
   },
   "outputs": [
    {
     "name": "stdout",
     "output_type": "stream",
     "text": [
      "\n",
      "======================= Code Execution =======================\n",
      "\n",
      "Extracting python code from notebook named 'Raveendiran-A1.ipynb' and storing in notebookcode.py\n",
      "Removing all statements that are not function or class defs or import statements.\n",
      "\n",
      "Testing\n",
      "    X = np.arange(4).reshape(-1, 1)\n",
      "    T = np.log(X + 10)\n",
      "\n",
      "    ni = 1\n",
      "    nu = 2\n",
      "    nv = 3\n",
      "    U = np.arange((ni + 1) * nu).reshape(ni + 1, nu) * 0.1\n",
      "    V = (np.arange((nu + 1) * nv).reshape(nu + 1, nv) - 6) * 0.1\n",
      "    W = np.arange(nv + 1).reshape(nv + 1, 1) * -0.1\n",
      "\n",
      "    Zu, Zv, Y = forward(addOnes(X), U, V, W)\n",
      "\n",
      "\n",
      "--- 20/20 points. Zu, Zv and Y are correct.\n",
      "\n",
      "Testing\n",
      "    X = np.arange(4).reshape(-1, 1)\n",
      "    T = np.log(X + 10)\n",
      "\n",
      "    ni = 1\n",
      "    nu = 2\n",
      "    nv = 3\n",
      "    U = np.arange((ni + 1) * nu).reshape(ni + 1, nu) * 0.1\n",
      "    V = (np.arange((nu + 1) * nv).reshape(nu + 1, nv) - 6) * 0.1\n",
      "    W = np.arange(nv + 1).reshape(nv + 1, 1) * -0.1\n",
      "\n",
      "    Zu = np.array([[0.        , 0.09966799],\n",
      "                   [0.19737532, 0.37994896],\n",
      "                   [0.37994896, 0.60436778],\n",
      "                   [0.53704957, 0.76159416]])\n",
      "    Zv = np.array([[-0.53704957, -0.45424278, -0.36276513],\n",
      "                   [-0.57783916, -0.46328044, -0.3308191 ],\n",
      "                   [-0.61316945, -0.47426053, -0.30690171],\n",
      "                   [-0.64173317, -0.4863364 , -0.29258059]])\n",
      "    Y = np.array([[0.25338305],\n",
      "                  [0.24968573],\n",
      "                  [0.24823956],\n",
      "                  [0.24921478]])\n",
      "\n",
      "    grad_wrt_U, grad_wrt_V, grad_wrt_W = gradient(X, T, Zu, Zv, Y, U, V, W)\n",
      "\n",
      "\n",
      "--- 20/20 points. grad_wrt_U, grad_wrt_V, grad_wrt_W are correct.\n",
      "\n",
      "Testing\n",
      "    X = (np.arange(40).reshape(-1, 2) - 10) * 0.1\n",
      "    T = X ** 3\n",
      "\n",
      "    U, V, W, X_means, X_stds, T_means, T_stds = train(X, T, 100, 50, 10, 0.005)\n",
      "\n",
      "U.shape is correct\n",
      "V.shape is correct\n",
      "W.shape is correct\n",
      "X_means is correct.\n",
      "X_stds is correct.\n",
      "T_means is correct.\n",
      "T_stds is correct.\n",
      "\n",
      "--- 20/20 points. Shapes of weight matrices and standardization parameters are correct\n",
      "\n",
      "Testing\n",
      "    X = (np.arange(40).reshape(-1, 2) - 10) * 0.1\n",
      "    T = X ** 3\n",
      "\n",
      "    def rmse(A, B):\n",
      "        return np.sqrt(np.mean((A - B)**2))\n",
      "\n",
      "    vs = []\n",
      "    for i in range(10):\n",
      "        U, V, W, X_means, X_stds, T_means, T_stds = train(X, T, 100, 50, 10000, 0.005)\n",
      "        Y = use(X, X_means, X_stds, T_means, T_stds, U, V, W)\n",
      "        vs.append(rmse(Y, T))\n",
      "\n",
      "    rmse_min, rmse_max = min(vs), max(vs)\n",
      "\n",
      "\n",
      "--- 30/30 points. Range of RMSE results are what is expected: 0.001 < RMSE < 0.5\n",
      "\n",
      "======================================================================\n",
      "C:\\Users\\kiran Execution Grade is 90 / 90\n",
      "======================================================================\n",
      "\n",
      " __ / 10 points Based on your discussion.\n",
      "\n",
      "======================================================================\n",
      "C:\\Users\\kiran FINAL GRADE is  _  / 100\n",
      "======================================================================\n",
      "\n",
      "Extra Credit:\n",
      "\n",
      "Apply your functions to a data set from the UCI Machine Learning Repository.\n",
      "Explain your steps and results in markdown cells.\n",
      "\n",
      "\n",
      "C:\\Users\\kiran EXTRA CREDIT is 0 / 1\n"
     ]
    },
    {
     "data": {
      "text/plain": [
       "<Figure size 432x288 with 0 Axes>"
      ]
     },
     "metadata": {},
     "output_type": "display_data"
    }
   ],
   "source": [
    "%run -i A1grader.py"
   ]
  },
  {
   "cell_type": "markdown",
   "metadata": {},
   "source": [
    "# Check-In\n",
    "\n",
    "Do not include this section in your notebook.\n",
    "\n",
    "Name your notebook ```Lastname-A1.ipynb```.  So, for me it would be ```Anderson-A1.ipynb```.  Submit the file using the ```Assignment 1``` link on [Canvas](https://colostate.instructure.com/courses/131494)."
   ]
  },
  {
   "cell_type": "markdown",
   "metadata": {},
   "source": [
    "# Extra Credit\n",
    "\n",
    "Apply your multilayer neural network code to a regression problem using data that you choose \n",
    "from the [UCI Machine Learning Repository](http://archive.ics.uci.edu/ml/datasets.php). Pick a dataset that\n",
    "is listed as being appropriate for regression."
   ]
  },
  {
   "cell_type": "code",
   "execution_count": 19,
   "metadata": {},
   "outputs": [],
   "source": [
    "import pandas as pd"
   ]
  },
  {
   "cell_type": "code",
   "execution_count": 20,
   "metadata": {
    "scrolled": false
   },
   "outputs": [],
   "source": [
    "data = pd.read_csv('Bias_correction_ucl.csv')\n",
    "data = data.dropna(axis=0)"
   ]
  },
  {
   "cell_type": "code",
   "execution_count": 21,
   "metadata": {},
   "outputs": [
    {
     "data": {
      "text/html": [
       "<div>\n",
       "<style scoped>\n",
       "    .dataframe tbody tr th:only-of-type {\n",
       "        vertical-align: middle;\n",
       "    }\n",
       "\n",
       "    .dataframe tbody tr th {\n",
       "        vertical-align: top;\n",
       "    }\n",
       "\n",
       "    .dataframe thead th {\n",
       "        text-align: right;\n",
       "    }\n",
       "</style>\n",
       "<table border=\"1\" class=\"dataframe\">\n",
       "  <thead>\n",
       "    <tr style=\"text-align: right;\">\n",
       "      <th></th>\n",
       "      <th>station</th>\n",
       "      <th>Date</th>\n",
       "      <th>Present_Tmax</th>\n",
       "      <th>Present_Tmin</th>\n",
       "      <th>LDAPS_RHmin</th>\n",
       "      <th>LDAPS_RHmax</th>\n",
       "      <th>LDAPS_Tmax_lapse</th>\n",
       "      <th>LDAPS_Tmin_lapse</th>\n",
       "      <th>LDAPS_WS</th>\n",
       "      <th>LDAPS_LH</th>\n",
       "      <th>...</th>\n",
       "      <th>LDAPS_PPT2</th>\n",
       "      <th>LDAPS_PPT3</th>\n",
       "      <th>LDAPS_PPT4</th>\n",
       "      <th>lat</th>\n",
       "      <th>lon</th>\n",
       "      <th>DEM</th>\n",
       "      <th>Slope</th>\n",
       "      <th>Solar radiation</th>\n",
       "      <th>Next_Tmax</th>\n",
       "      <th>Next_Tmin</th>\n",
       "    </tr>\n",
       "  </thead>\n",
       "  <tbody>\n",
       "    <tr>\n",
       "      <th>0</th>\n",
       "      <td>1.0</td>\n",
       "      <td>2013-06-30</td>\n",
       "      <td>28.7</td>\n",
       "      <td>21.4</td>\n",
       "      <td>58.255688</td>\n",
       "      <td>91.116364</td>\n",
       "      <td>28.074101</td>\n",
       "      <td>23.006936</td>\n",
       "      <td>6.818887</td>\n",
       "      <td>69.451805</td>\n",
       "      <td>...</td>\n",
       "      <td>0.0</td>\n",
       "      <td>0.0</td>\n",
       "      <td>0.0</td>\n",
       "      <td>37.6046</td>\n",
       "      <td>126.991</td>\n",
       "      <td>212.3350</td>\n",
       "      <td>2.7850</td>\n",
       "      <td>5992.895996</td>\n",
       "      <td>29.1</td>\n",
       "      <td>21.2</td>\n",
       "    </tr>\n",
       "    <tr>\n",
       "      <th>1</th>\n",
       "      <td>2.0</td>\n",
       "      <td>2013-06-30</td>\n",
       "      <td>31.9</td>\n",
       "      <td>21.6</td>\n",
       "      <td>52.263397</td>\n",
       "      <td>90.604721</td>\n",
       "      <td>29.850689</td>\n",
       "      <td>24.035009</td>\n",
       "      <td>5.691890</td>\n",
       "      <td>51.937448</td>\n",
       "      <td>...</td>\n",
       "      <td>0.0</td>\n",
       "      <td>0.0</td>\n",
       "      <td>0.0</td>\n",
       "      <td>37.6046</td>\n",
       "      <td>127.032</td>\n",
       "      <td>44.7624</td>\n",
       "      <td>0.5141</td>\n",
       "      <td>5869.312500</td>\n",
       "      <td>30.5</td>\n",
       "      <td>22.5</td>\n",
       "    </tr>\n",
       "    <tr>\n",
       "      <th>2</th>\n",
       "      <td>3.0</td>\n",
       "      <td>2013-06-30</td>\n",
       "      <td>31.6</td>\n",
       "      <td>23.3</td>\n",
       "      <td>48.690479</td>\n",
       "      <td>83.973587</td>\n",
       "      <td>30.091292</td>\n",
       "      <td>24.565633</td>\n",
       "      <td>6.138224</td>\n",
       "      <td>20.573050</td>\n",
       "      <td>...</td>\n",
       "      <td>0.0</td>\n",
       "      <td>0.0</td>\n",
       "      <td>0.0</td>\n",
       "      <td>37.5776</td>\n",
       "      <td>127.058</td>\n",
       "      <td>33.3068</td>\n",
       "      <td>0.2661</td>\n",
       "      <td>5863.555664</td>\n",
       "      <td>31.1</td>\n",
       "      <td>23.9</td>\n",
       "    </tr>\n",
       "    <tr>\n",
       "      <th>3</th>\n",
       "      <td>4.0</td>\n",
       "      <td>2013-06-30</td>\n",
       "      <td>32.0</td>\n",
       "      <td>23.4</td>\n",
       "      <td>58.239788</td>\n",
       "      <td>96.483688</td>\n",
       "      <td>29.704629</td>\n",
       "      <td>23.326177</td>\n",
       "      <td>5.650050</td>\n",
       "      <td>65.727144</td>\n",
       "      <td>...</td>\n",
       "      <td>0.0</td>\n",
       "      <td>0.0</td>\n",
       "      <td>0.0</td>\n",
       "      <td>37.6450</td>\n",
       "      <td>127.022</td>\n",
       "      <td>45.7160</td>\n",
       "      <td>2.5348</td>\n",
       "      <td>5856.964844</td>\n",
       "      <td>31.7</td>\n",
       "      <td>24.3</td>\n",
       "    </tr>\n",
       "    <tr>\n",
       "      <th>4</th>\n",
       "      <td>5.0</td>\n",
       "      <td>2013-06-30</td>\n",
       "      <td>31.4</td>\n",
       "      <td>21.9</td>\n",
       "      <td>56.174095</td>\n",
       "      <td>90.155128</td>\n",
       "      <td>29.113934</td>\n",
       "      <td>23.486480</td>\n",
       "      <td>5.735004</td>\n",
       "      <td>107.965535</td>\n",
       "      <td>...</td>\n",
       "      <td>0.0</td>\n",
       "      <td>0.0</td>\n",
       "      <td>0.0</td>\n",
       "      <td>37.5507</td>\n",
       "      <td>127.135</td>\n",
       "      <td>35.0380</td>\n",
       "      <td>0.5055</td>\n",
       "      <td>5859.552246</td>\n",
       "      <td>31.2</td>\n",
       "      <td>22.5</td>\n",
       "    </tr>\n",
       "  </tbody>\n",
       "</table>\n",
       "<p>5 rows × 25 columns</p>\n",
       "</div>"
      ],
      "text/plain": [
       "   station        Date  Present_Tmax  Present_Tmin  LDAPS_RHmin  LDAPS_RHmax  \\\n",
       "0      1.0  2013-06-30          28.7          21.4    58.255688    91.116364   \n",
       "1      2.0  2013-06-30          31.9          21.6    52.263397    90.604721   \n",
       "2      3.0  2013-06-30          31.6          23.3    48.690479    83.973587   \n",
       "3      4.0  2013-06-30          32.0          23.4    58.239788    96.483688   \n",
       "4      5.0  2013-06-30          31.4          21.9    56.174095    90.155128   \n",
       "\n",
       "   LDAPS_Tmax_lapse  LDAPS_Tmin_lapse  LDAPS_WS    LDAPS_LH  ...  LDAPS_PPT2  \\\n",
       "0         28.074101         23.006936  6.818887   69.451805  ...         0.0   \n",
       "1         29.850689         24.035009  5.691890   51.937448  ...         0.0   \n",
       "2         30.091292         24.565633  6.138224   20.573050  ...         0.0   \n",
       "3         29.704629         23.326177  5.650050   65.727144  ...         0.0   \n",
       "4         29.113934         23.486480  5.735004  107.965535  ...         0.0   \n",
       "\n",
       "   LDAPS_PPT3  LDAPS_PPT4      lat      lon       DEM   Slope  \\\n",
       "0         0.0         0.0  37.6046  126.991  212.3350  2.7850   \n",
       "1         0.0         0.0  37.6046  127.032   44.7624  0.5141   \n",
       "2         0.0         0.0  37.5776  127.058   33.3068  0.2661   \n",
       "3         0.0         0.0  37.6450  127.022   45.7160  2.5348   \n",
       "4         0.0         0.0  37.5507  127.135   35.0380  0.5055   \n",
       "\n",
       "   Solar radiation  Next_Tmax  Next_Tmin  \n",
       "0      5992.895996       29.1       21.2  \n",
       "1      5869.312500       30.5       22.5  \n",
       "2      5863.555664       31.1       23.9  \n",
       "3      5856.964844       31.7       24.3  \n",
       "4      5859.552246       31.2       22.5  \n",
       "\n",
       "[5 rows x 25 columns]"
      ]
     },
     "execution_count": 21,
     "metadata": {},
     "output_type": "execute_result"
    }
   ],
   "source": [
    "data.head()"
   ]
  },
  {
   "cell_type": "code",
   "execution_count": 22,
   "metadata": {
    "scrolled": true
   },
   "outputs": [
    {
     "data": {
      "text/plain": [
       "0    28.7\n",
       "1    31.9\n",
       "2    31.6\n",
       "3    32.0\n",
       "4    31.4\n",
       "5    31.9\n",
       "6    31.4\n",
       "7    32.1\n",
       "8    31.4\n",
       "9    31.6\n",
       "Name: Present_Tmax, dtype: float64"
      ]
     },
     "execution_count": 22,
     "metadata": {},
     "output_type": "execute_result"
    }
   ],
   "source": [
    "data['Present_Tmax'][:10]"
   ]
  },
  {
   "cell_type": "code",
   "execution_count": 23,
   "metadata": {
    "scrolled": false
   },
   "outputs": [
    {
     "data": {
      "text/plain": [
       "[28.7, 31.9, 31.6, 32.0, 31.4, 31.9, 31.4, 32.1, 31.4, 31.6]"
      ]
     },
     "execution_count": 23,
     "metadata": {},
     "output_type": "execute_result"
    }
   ],
   "source": [
    "[t for t in data['Present_Tmax'][:10]]"
   ]
  },
  {
   "cell_type": "code",
   "execution_count": 24,
   "metadata": {
    "scrolled": true
   },
   "outputs": [],
   "source": [
    "Present_Tmax = [t for t in data['Present_Tmax'][:10]]"
   ]
  },
  {
   "cell_type": "code",
   "execution_count": 25,
   "metadata": {
    "scrolled": true
   },
   "outputs": [
    {
     "data": {
      "text/plain": [
       "0    58.255688\n",
       "1    52.263397\n",
       "2    48.690479\n",
       "3    58.239788\n",
       "4    56.174095\n",
       "5    52.437126\n",
       "6    56.287189\n",
       "7    52.326218\n",
       "8    55.338791\n",
       "9    56.651203\n",
       "Name: LDAPS_RHmin, dtype: float64"
      ]
     },
     "execution_count": 25,
     "metadata": {},
     "output_type": "execute_result"
    }
   ],
   "source": [
    "RH = data['LDAPS_RHmin']\n",
    "RH[:10]"
   ]
  },
  {
   "cell_type": "code",
   "execution_count": 26,
   "metadata": {},
   "outputs": [],
   "source": [
    "R = RH[:10]"
   ]
  },
  {
   "cell_type": "code",
   "execution_count": 27,
   "metadata": {},
   "outputs": [
    {
     "name": "stdout",
     "output_type": "stream",
     "text": [
      "X.shape=(10, 1) Xnames=['Present_Tmax'] T.shape=(10, 1) Tnames=['LDAPS_RHmin']\n"
     ]
    }
   ],
   "source": [
    "T = np.array(R).reshape((-1, 1))\n",
    "Tnames = ['LDAPS_RHmin']\n",
    "X = np.array(Present_Tmax).reshape((-1, 1))\n",
    "Xnames = ['Present_Tmax']\n",
    "print(f'{X.shape=} {Xnames=} {T.shape=} {Tnames=}')"
   ]
  },
  {
   "cell_type": "code",
   "execution_count": 28,
   "metadata": {},
   "outputs": [],
   "source": [
    "U = np.array([[2, 3, 4], [5, 6, 7]])  # 2 x 3 matrix, for 2 inputs (include constant 1) and 3 units\n",
    "V = np.array([[-1, 3], [1, -3], [-2, 4], [2, -4]]) # 2 x 3 matrix, for 3 inputs (include constant 1) and 2 units\n",
    "W = np.array([[1], [2], [3]])  # 3 x 1 matrix, for 3 inputs (include constant 1) and 1 unit"
   ]
  },
  {
   "cell_type": "code",
   "execution_count": 29,
   "metadata": {},
   "outputs": [],
   "source": [
    "X_means = np.mean(X, axis=0)\n",
    "X_stds = np.std(X, axis=0)\n",
    "X_st = (X - X_means) / X_stds"
   ]
  },
  {
   "cell_type": "code",
   "execution_count": 30,
   "metadata": {},
   "outputs": [],
   "source": [
    "Zu, Zv, Y = forward(addOnes(X_st), U, V, W)"
   ]
  },
  {
   "cell_type": "code",
   "execution_count": 31,
   "metadata": {},
   "outputs": [],
   "source": [
    "T_means = np.mean(T, axis=0)\n",
    "T_stds = np.std(T, axis=0)\n",
    "T_st = (T - T_means) / T_stds\n",
    "grad_wrt_U, grad_wrt_V, grad_wrt_W = gradient(addOnes(X_st), T_st, Zu, Zv, Y, U, V, W)"
   ]
  },
  {
   "cell_type": "code",
   "execution_count": 32,
   "metadata": {},
   "outputs": [],
   "source": [
    "n = 30\n",
    "X = np.linspace(0., 20.0, n).reshape((n, 1)) - 10\n",
    "T = 0.2 + 0.05 * (X + 10) + 0.4 * np.sin(X + 10) + 0.2 * np.random.normal(size=(n, 1))\n",
    "Xtrain = X\n",
    "Ttrain = T\n",
    "Xtest = Xtrain + 0.1 * np.random.normal(size=(n, 1))\n",
    "Ttest = 0.2 + 0.05 * (Xtest + 10) + 0.4 * np.sin(Xtest + 10) + 0.2 * np.random.normal(size=(n, 1))"
   ]
  },
  {
   "cell_type": "code",
   "execution_count": 33,
   "metadata": {},
   "outputs": [],
   "source": [
    "U, V, W, X_means, X_stds, T_means, T_stds =  train(X, T, 5, 5, 100, 0.01)"
   ]
  },
  {
   "cell_type": "code",
   "execution_count": 34,
   "metadata": {},
   "outputs": [],
   "source": [
    "Y = use(X, X_means, X_stds, T_means, T_stds, U, V, W)"
   ]
  },
  {
   "cell_type": "code",
   "execution_count": 35,
   "metadata": {},
   "outputs": [
    {
     "data": {
      "image/png": "[encoded data removed]",
      "text/plain": [
       "<Figure size 432x288 with 1 Axes>"
      ]
     },
     "metadata": {
      "needs_background": "light"
     },
     "output_type": "display_data"
    }
   ],
   "source": [
    "plt.plot(X, T)\n",
    "plt.plot(X, Y);"
   ]
  },
  {
   "cell_type": "code",
   "execution_count": 36,
   "metadata": {},
   "outputs": [
    {
     "data": {
      "image/png": "[encoded data removed]",
      "text/plain": [
       "<Figure size 432x288 with 1 Axes>"
      ]
     },
     "metadata": {
      "needs_background": "light"
     },
     "output_type": "display_data"
    }
   ],
   "source": [
    "U, V, W, X_means, X_stds, T_means, T_stds = train(Xtrain, Ttrain, 5, 5, 10000, 0.01)\n",
    "Y = use(Xtrain, X_means, X_stds, T_means, T_stds, U, V, W)\n",
    "plt.plot(Xtrain, Ttrain, label='Train')\n",
    "plt.plot(Xtrain, Y, label='Test')\n",
    "plt.legend();"
   ]
  },
  {
   "cell_type": "code",
   "execution_count": null,
   "metadata": {},
   "outputs": [],
   "source": []
  }
 ],
 "metadata": {
  "kernelspec": {
   "display_name": "Python 3",
   "language": "python",
   "name": "python3"
  },
  "language_info": {
   "codemirror_mode": {
    "name": "ipython",
    "version": 3
   },
   "file_extension": ".py",
   "mimetype": "text/x-python",
   "name": "python",
   "nbconvert_exporter": "python",
   "pygments_lexer": "ipython3",
   "version": "3.8.5"
  },
  "toc": {
   "base_numbering": 1,
   "nav_menu": {},
   "number_sections": false,
   "sideBar": true,
   "skip_h1_title": true,
   "title_cell": "Table of Contents",
   "title_sidebar": "Contents",
   "toc_cell": true,
   "toc_position": {
    "height": "calc(100% - 180px)",
    "left": "10px",
    "top": "150px",
    "width": "512px"
   },
   "toc_section_display": true,
   "toc_window_display": true
  }
 },
 "nbformat": 4,
 "nbformat_minor": 4
}
